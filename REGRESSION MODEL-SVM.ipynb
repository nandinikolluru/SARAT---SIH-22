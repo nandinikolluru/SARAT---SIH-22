{
  "nbformat": 4,
  "nbformat_minor": 0,
  "metadata": {
    "colab": {
      "name": "final_Linear_Bayesian.ipynb",
      "provenance": [],
      "collapsed_sections": []
    },
    "kernelspec": {
      "name": "python3",
      "display_name": "Python 3"
    },
    "language_info": {
      "name": "python"
    },
    "gpuClass": "standard"
  },
  "cells": [
    {
      "cell_type": "markdown",
      "source": [
        "Importing libraries\n"
      ],
      "metadata": {
        "id": "LD2VkPeSUR4i"
      }
    },
    {
      "cell_type": "code",
      "execution_count": null,
      "metadata": {
        "id": "8XkDpJNV-qWR"
      },
      "outputs": [],
      "source": [
        "import numpy as np\n",
        "import matplotlib.pyplot as plt\n",
        "import statsmodels.api as sm\n",
        "import pandas as pd\n",
        "import seaborn as sns\n",
        "from sklearn.linear_model import LinearRegression, RidgeCV, LassoCV, ElasticNetCV\n",
        "from sklearn.model_selection import cross_val_score\n",
        "from sklearn.metrics import mean_squared_error\n",
        "from sklearn import linear_model\n",
        "\n"
      ]
    },
    {
      "cell_type": "markdown",
      "source": [
        "File importing\n"
      ],
      "metadata": {
        "id": "Y7RbPBY6UY-u"
      }
    },
    {
      "cell_type": "markdown",
      "source": [
        "Data preprocessing"
      ],
      "metadata": {
        "id": "w-5EXKdP7SEx"
      }
    },
    {
      "cell_type": "code",
      "source": [
        "\n",
        "df = pd.read_csv('longimp.csv')\n",
        "df1 = pd.read_csv('latimp.csv')\n",
        "df.head(10)\n",
        "df1.isnull().sum().sort_values(ascending=False)\n",
        "df_no_missing = df1.dropna(axis=0)\n",
        "print(df_no_missing.head(5))\n",
        "df.isnull().sum().sort_values(ascending=False)\n",
        "df_no_missing = df.dropna(axis=0)\n",
        "print(df_no_missing.head(5))\n"
      ],
      "metadata": {
        "colab": {
          "base_uri": "https://localhost:8080/"
        },
        "id": "uDfbs-OR7Rq2",
        "outputId": "a0c355d5-2d18-47b4-900e-2bbcf310ecdd"
      },
      "execution_count": null,
      "outputs": [
        {
          "output_type": "stream",
          "name": "stdout",
          "text": [
            "   delta_lati  delta_temp  delta_windspeed  eastwest_CS  northsouth_CS  \\\n",
            "0       0.210      -1.035            1.648      -54.195        -18.371   \n",
            "1       0.011       0.028           -0.915       13.631         17.645   \n",
            "2       0.069       0.091           -0.896       17.559       -133.711   \n",
            "3       0.178      -0.055            1.532      -31.886         10.146   \n",
            "4       0.016      -0.025           -0.686       21.395        -13.062   \n",
            "\n",
            "   delta_u10  delta_v10  \n",
            "0     -1.446      0.148  \n",
            "1      0.182      0.087  \n",
            "2      1.612     -2.286  \n",
            "3     -1.403      0.221  \n",
            "4      0.723     -0.230  \n",
            "   delta_longi  delta_temp  delta_windspeed  eastwest_CS  northsouth_CS  \\\n",
            "0        0.113      -0.035            1.648      -54.195        -18.371   \n",
            "1        0.014       0.028           -0.915       13.631         17.645   \n",
            "2        0.075       0.091           -0.896       17.559       -133.711   \n",
            "3        0.152      -0.055            1.532      -31.886         10.146   \n",
            "4        0.014      -0.025           -0.686       21.395        -13.062   \n",
            "\n",
            "   delta_u10  delta_v10  \n",
            "0     -1.446      0.148  \n",
            "1      0.182      0.087  \n",
            "2      1.612     -2.286  \n",
            "3     -1.403      0.221  \n",
            "4      0.723     -0.230  \n"
          ]
        }
      ]
    },
    {
      "cell_type": "markdown",
      "source": [
        "correlation\n"
      ],
      "metadata": {
        "id": "31I-k9bJUdd8"
      }
    },
    {
      "cell_type": "code",
      "source": [
        "df.info()\n",
        "df.corr()\n",
        "sns.heatmap(df.corr(),annot=True)"
      ],
      "metadata": {
        "colab": {
          "base_uri": "https://localhost:8080/",
          "height": 604
        },
        "id": "lg9XFmRucTH3",
        "outputId": "aa262b3b-a544-46f4-f0d5-6046c9d9a9ad"
      },
      "execution_count": null,
      "outputs": [
        {
          "output_type": "stream",
          "name": "stdout",
          "text": [
            "<class 'pandas.core.frame.DataFrame'>\n",
            "RangeIndex: 1257 entries, 0 to 1256\n",
            "Data columns (total 7 columns):\n",
            " #   Column           Non-Null Count  Dtype  \n",
            "---  ------           --------------  -----  \n",
            " 0   delta_longi      1257 non-null   float64\n",
            " 1   delta_temp       1257 non-null   float64\n",
            " 2   delta_windspeed  1257 non-null   float64\n",
            " 3   eastwest_CS      1257 non-null   float64\n",
            " 4   northsouth_CS    1257 non-null   float64\n",
            " 5   delta_u10        1257 non-null   float64\n",
            " 6   delta_v10        1257 non-null   float64\n",
            "dtypes: float64(7)\n",
            "memory usage: 68.9 KB\n"
          ]
        },
        {
          "output_type": "execute_result",
          "data": {
            "text/plain": [
              "<matplotlib.axes._subplots.AxesSubplot at 0x7f3753ea0f50>"
            ]
          },
          "metadata": {},
          "execution_count": 5
        },
        {
          "output_type": "display_data",
          "data": {
            "text/plain": [
              "<Figure size 432x288 with 2 Axes>"
            ],
            "image/png": "[encoded data removed]"
          },
          "metadata": {
            "needs_background": "light"
          }
        }
      ]
    },
    {
      "cell_type": "markdown",
      "source": [
        "Linear regression Implementation\n"
      ],
      "metadata": {
        "id": "W4lQYaUbUhPc"
      }
    },
    {
      "cell_type": "code",
      "source": [
        "\n",
        "#from sklearn import metrics\n",
        "\n",
        "from sklearn import metrics\n",
        "X = df[['delta_temp','delta_windspeed','eastwest_CS','northsouth_CS','delta_u10','delta_v10']] \n",
        "\n",
        "Y = df[['delta_longi']]\n",
        "from sklearn.model_selection import train_test_split\n",
        "X_train, X_test, Y_train, Y_test = train_test_split(X, Y, test_size = 1/4, random_state = 0)\n",
        "\n",
        "# with sklearn\n",
        "regr = linear_model.LinearRegression()\n",
        "regr.fit(X_train, Y_train)\n",
        "\n",
        "# Predicting the Test set results\n",
        "Y_pred = regr.predict(X_test)\n",
        "for i in Y_pred:\n",
        "  #print(i)\n",
        "  pass\n",
        " \n",
        "print('Root Mean Squared Error:', np.sqrt(metrics.mean_squared_error(Y_test, Y_pred)))\n",
        "\n",
        "\n",
        "print('Intercept: \\n', regr.intercept_)\n",
        "print('Coefficients: \\n', regr.coef_)\n",
        "\n",
        " \n",
        "print('Root Mean Squared Error:', np.sqrt(metrics.mean_squared_error(Y_test, Y_pred)))\n",
        "\n",
        "\n",
        "print('Intercept: \\n', regr.intercept_)\n",
        "print('Coefficients: \\n', regr.coef_)\n",
        "\n"
      ],
      "metadata": {
        "colab": {
          "base_uri": "https://localhost:8080/"
        },
        "id": "7Ai05c9OIjOt",
        "outputId": "c91040de-0367-45c4-dedb-b4f1eaa88a6a"
      },
      "execution_count": null,
      "outputs": [
        {
          "output_type": "stream",
          "name": "stdout",
          "text": [
            "Root Mean Squared Error: 0.0835678594322567\n",
            "Intercept: \n",
            " [-0.05362738]\n",
            "Coefficients: \n",
            " [[ 5.40653225e-02  1.99105505e-04 -2.25033790e-06  1.85492919e-04\n",
            "  -2.69867358e-03 -3.42337324e-03]]\n",
            "Root Mean Squared Error: 0.0835678594322567\n",
            "Intercept: \n",
            " [-0.05362738]\n",
            "Coefficients: \n",
            " [[ 5.40653225e-02  1.99105505e-04 -2.25033790e-06  1.85492919e-04\n",
            "  -2.69867358e-03 -3.42337324e-03]]\n"
          ]
        }
      ]
    },
    {
      "cell_type": "markdown",
      "source": [
        "linear regression latitude"
      ],
      "metadata": {
        "id": "q73HlWBDJYnM"
      }
    },
    {
      "cell_type": "code",
      "source": [
        "\n",
        "#from sklearn import metrics\n",
        "\n",
        "from sklearn import metrics\n",
        "X = df1[['delta_temp','delta_windspeed','eastwest_CS','northsouth_CS','delta_u10','delta_v10']] \n",
        "\n",
        "Y = df1[['delta_lati']]\n",
        "from sklearn.model_selection import train_test_split\n",
        "X_train, X_test, Y_train, Y_test = train_test_split(X, Y, test_size = 1/4, random_state = 0)\n",
        "\n",
        "# with sklearn\n",
        "regr = linear_model.LinearRegression()\n",
        "regr.fit(X_train, Y_train)\n",
        "\n",
        "# Predicting the Test set results\n",
        "Y_pred = regr.predict(X_test)\n",
        "for i in Y_pred:\n",
        "  #print(i)\n",
        "  pass\n",
        " \n",
        "print('Root Mean Squared Error:', np.sqrt(metrics.mean_squared_error(Y_test, Y_pred)))\n",
        "\n",
        "\n",
        "print('Intercept: \\n', regr.intercept_)\n",
        "print('Coefficients: \\n', regr.coef_)\n",
        "\n",
        "# X = sm.add_constant(X) \n",
        " \n",
        "# model = sm.OLS(Y, X).fit()\n",
        "# predictions = model.predict(X) \n",
        "\n",
        "# print_model = model.summary()\n",
        "\n",
        " \n",
        "print('Root Mean Squared Error:', np.sqrt(metrics.mean_squared_error(Y_test, Y_pred)))\n",
        "\n",
        "\n",
        "print('Intercept: \\n', regr.intercept_)\n",
        "print('Coefficients: \\n', regr.coef_)\n",
        "\n"
      ],
      "metadata": {
        "colab": {
          "base_uri": "https://localhost:8080/"
        },
        "id": "6T7H6KGWJQzu",
        "outputId": "1cee7ba6-65e5-4046-addf-1730013b7487"
      },
      "execution_count": null,
      "outputs": [
        {
          "output_type": "stream",
          "name": "stdout",
          "text": [
            "Root Mean Squared Error: 0.08360358527673802\n",
            "Intercept: \n",
            " [-0.05299049]\n",
            "Coefficients: \n",
            " [[ 1.39574920e-05  9.71872970e-06 -2.67153592e-07  1.77340394e-04\n",
            "  -3.69582464e-03 -3.47724087e-03]]\n",
            "Root Mean Squared Error: 0.08360358527673802\n",
            "Intercept: \n",
            " [-0.05299049]\n",
            "Coefficients: \n",
            " [[ 1.39574920e-05  9.71872970e-06 -2.67153592e-07  1.77340394e-04\n",
            "  -3.69582464e-03 -3.47724087e-03]]\n"
          ]
        }
      ]
    },
    {
      "cell_type": "markdown",
      "source": [
        "Bayesian regression longitude prediction"
      ],
      "metadata": {
        "id": "ZD1Wwv8-Urbk"
      }
    },
    {
      "cell_type": "code",
      "source": [],
      "metadata": {
        "id": "HhPNLZccW_Hi"
      },
      "execution_count": null,
      "outputs": []
    },
    {
      "cell_type": "code",
      "source": [
        "\n",
        "from sklearn import metrics\n",
        "X = df[['delta_temp','delta_windspeed','eastwest_CS','northsouth_CS','delta_u10','delta_v10']] \n",
        "\n",
        "Y = df[['delta_longi']]\n",
        "from sklearn.model_selection import train_test_split\n",
        "X_train, X_test, Y_train, Y_test = train_test_split(X, Y, test_size = 1/4, random_state = 0)\n",
        "\n",
        "# with sklearn\n",
        "regr = linear_model.BayesianRidge()\n",
        "regr.fit(X_train, Y_train)\n",
        "\n",
        "# Predicting the Test set results\n",
        "Y_pred = regr.predict(X_test)\n",
        "for i in Y_pred:\n",
        "  #print(i)\n",
        "  pass\n",
        " \n",
        "print('Root Mean Squared Error:', np.sqrt(metrics.mean_squared_error(Y_test, Y_pred)))\n",
        "\n",
        "\n",
        "print('Intercept: \\n', regr.intercept_)\n",
        "print('Coefficients: \\n', regr.coef_)\n",
        "\n",
        "# X = sm.add_constant(X) \n",
        " \n",
        "# model = sm.OLS(Y, X).fit()\n",
        "# predictions = model.predict(X) \n",
        "\n",
        "# print_model = model.summary()\n",
        "# print(print_model)"
      ],
      "metadata": {
        "id": "kvxPuxZMTHcZ",
        "colab": {
          "base_uri": "https://localhost:8080/"
        },
        "outputId": "56caf564-0ada-47dc-dec7-ea234a035dea"
      },
      "execution_count": null,
      "outputs": [
        {
          "output_type": "stream",
          "name": "stdout",
          "text": [
            "Root Mean Squared Error: 0.08347955588742954\n",
            "Intercept: \n",
            " -0.053245656265764746\n",
            "Coefficients: \n",
            " [ 3.86618006e-05 -2.71720817e-05 -4.63254725e-05  1.23557287e-04\n",
            " -1.07558901e-04 -1.79606208e-04]\n"
          ]
        },
        {
          "output_type": "stream",
          "name": "stderr",
          "text": [
            "/usr/local/lib/python3.7/dist-packages/sklearn/utils/validation.py:993: DataConversionWarning: A column-vector y was passed when a 1d array was expected. Please change the shape of y to (n_samples, ), for example using ravel().\n",
            "  y = column_or_1d(y, warn=True)\n"
          ]
        }
      ]
    },
    {
      "cell_type": "markdown",
      "source": [
        "Bayesian regression latitude prediction"
      ],
      "metadata": {
        "id": "E1FFlz6SUxco"
      }
    },
    {
      "cell_type": "code",
      "source": [
        "\n",
        "#from sklearn import metrics\n",
        "\n",
        "from sklearn import metrics\n",
        "X = df1[['delta_temp','delta_windspeed','eastwest_CS','northsouth_CS','delta_u10','delta_v10']] \n",
        "\n",
        "Y = df1[['delta_lati']]\n",
        "from sklearn.model_selection import train_test_split\n",
        "X_train, X_test, Y_train, Y_test = train_test_split(X, Y, test_size = 1/4, random_state = 0)\n",
        "\n",
        "# with sklearn\n",
        "regr = linear_model.BayesianRidge()\n",
        "regr.fit(X_train, Y_train)\n",
        "\n",
        "# Predicting the Test set results\n",
        "Y_pred = regr.predict(X_test)\n",
        "for i in Y_pred:\n",
        "  #print(i)\n",
        "  pass\n",
        " \n",
        "print('Root Mean Squared Error:', np.sqrt(metrics.mean_squared_error(Y_test, Y_pred)))\n",
        "\n",
        "\n",
        "print('Intercept: \\n', regr.intercept_)\n",
        "print('Coefficients: \\n', regr.coef_)\n",
        "\n",
        "\n",
        "\n",
        " \n",
        "print('Root Mean Squared Error:', np.sqrt(metrics.mean_squared_error(Y_test, Y_pred)))\n",
        "\n",
        "\n",
        "print('Intercept: \\n', regr.intercept_)\n",
        "print('Coefficients: \\n', regr.coef_)\n",
        "\n"
      ],
      "metadata": {
        "id": "_x-WJK85FqUv",
        "colab": {
          "base_uri": "https://localhost:8080/"
        },
        "outputId": "6226fb30-e350-4301-d018-b7d6116be5cc"
      },
      "execution_count": null,
      "outputs": [
        {
          "output_type": "stream",
          "name": "stdout",
          "text": [
            "Root Mean Squared Error: 0.08351713930745139\n",
            "Intercept: \n",
            " -0.05297653580282429\n",
            "Coefficients: \n",
            " [ 1.35987881e-05 -6.52664158e-06 -5.12931962e-05  1.18170499e-04\n",
            " -9.58984418e-05 -1.24435690e-04]\n",
            "Root Mean Squared Error: 0.08351713930745139\n",
            "Intercept: \n",
            " -0.05297653580282429\n",
            "Coefficients: \n",
            " [ 1.35987881e-05 -6.52664158e-06 -5.12931962e-05  1.18170499e-04\n",
            " -9.58984418e-05 -1.24435690e-04]\n"
          ]
        },
        {
          "output_type": "stream",
          "name": "stderr",
          "text": [
            "/usr/local/lib/python3.7/dist-packages/sklearn/utils/validation.py:993: DataConversionWarning: A column-vector y was passed when a 1d array was expected. Please change the shape of y to (n_samples, ), for example using ravel().\n",
            "  y = column_or_1d(y, warn=True)\n"
          ]
        }
      ]
    },
    {
      "cell_type": "markdown",
      "source": [
        "svm\n"
      ],
      "metadata": {
        "id": "w2bxiLs--GdB"
      }
    },
    {
      "cell_type": "code",
      "source": [
        "from sklearn import svm\n",
        "\n",
        "regr = svm.SVR()\n",
        "\n",
        "\n",
        "\n",
        "from sklearn import metrics\n",
        "X = df[['delta_temp','delta_windspeed','eastwest_CS','northsouth_CS','delta_u10','delta_v10']] \n",
        "\n",
        "Y = df[['delta_longi']]\n",
        "from sklearn.model_selection import train_test_split\n",
        "X_train, X_test, Y_train, Y_test = train_test_split(X, Y, test_size = 1/4, random_state = 0)\n",
        "\n",
        "# with sklearn\n",
        "regr = svm.SVR()\n",
        "regr.fit(X_train, Y_train)\n",
        "\n",
        "# Predicting the Test set results\n",
        "Y_pred = regr.predict(X_test)\n",
        "for i in Y_pred:\n",
        "  #print(i)\n",
        "  pass\n",
        " \n",
        "print('Root Mean Squared Error:', np.sqrt(metrics.mean_squared_error(Y_test, Y_pred)))\n",
        "\n",
        "\n",
        "\n",
        "\n",
        "from sklearn import metrics\n",
        "X = df1[['delta_temp','delta_windspeed','eastwest_CS','northsouth_CS','delta_u10','delta_v10']] \n",
        "\n",
        "Y = df1[['delta_lati']]\n",
        "from sklearn.model_selection import train_test_split\n",
        "X_train, X_test, Y_train, Y_test = train_test_split(X, Y, test_size = 1/4, random_state = 0)\n",
        "\n",
        "# with sklearn\n",
        "\n",
        "regr = svm.SVR()\n",
        "regr.fit(X_train, Y_train)\n",
        "\n",
        "# Predicting the Test set results\n",
        "Y_pred = regr.predict(X_test)\n",
        "for i in Y_pred:\n",
        "  #print(i)\n",
        "  pass\n",
        " \n",
        "print('Root Mean Squared Error:', np.sqrt(metrics.mean_squared_error(Y_test, Y_pred)))\n",
        "\n"
      ],
      "metadata": {
        "colab": {
          "base_uri": "https://localhost:8080/"
        },
        "id": "HJF9YUlA96oP",
        "outputId": "862913d0-def4-4b84-eb81-f4029b1242ab"
      },
      "execution_count": null,
      "outputs": [
        {
          "output_type": "stream",
          "name": "stdout",
          "text": [
            "Root Mean Squared Error: 0.09155896207976195\n",
            "Root Mean Squared Error: 0.09156810737473686\n"
          ]
        },
        {
          "output_type": "stream",
          "name": "stderr",
          "text": [
            "/usr/local/lib/python3.7/dist-packages/sklearn/utils/validation.py:993: DataConversionWarning: A column-vector y was passed when a 1d array was expected. Please change the shape of y to (n_samples, ), for example using ravel().\n",
            "  y = column_or_1d(y, warn=True)\n",
            "/usr/local/lib/python3.7/dist-packages/sklearn/utils/validation.py:993: DataConversionWarning: A column-vector y was passed when a 1d array was expected. Please change the shape of y to (n_samples, ), for example using ravel().\n",
            "  y = column_or_1d(y, warn=True)\n"
          ]
        }
      ]
    },
    {
      "cell_type": "markdown",
      "source": [
        "decision tree"
      ],
      "metadata": {
        "id": "0QosciNbB3P5"
      }
    },
    {
      "cell_type": "code",
      "source": [
        "from sklearn import tree\n",
        "\n",
        "\n",
        "from sklearn import metrics\n",
        "X = df[['delta_temp','delta_windspeed','eastwest_CS','northsouth_CS','delta_u10','delta_v10']] \n",
        "\n",
        "Y = df[['delta_longi']]\n",
        "from sklearn.model_selection import train_test_split\n",
        "X_train, X_test, Y_train, Y_test = train_test_split(X, Y, test_size = 1/4, random_state = 0)\n",
        "\n",
        "# with sklearn\n",
        "regr = tree.DecisionTreeRegressor()\n",
        "regr.fit(X_train, Y_train)\n",
        "\n",
        "# Predicting the Test set results\n",
        "Y_pred = regr.predict(X_test)\n",
        "for i in Y_pred:\n",
        "  #print(i)\n",
        "  pass\n",
        " \n",
        "print('Root Mean Squared Error:', np.sqrt(metrics.mean_squared_error(Y_test, Y_pred)))\n",
        "\n",
        "\n",
        "\n",
        "\n",
        "\n",
        "from sklearn import metrics\n",
        "X = df1[['delta_temp','delta_windspeed','eastwest_CS','northsouth_CS','delta_u10','delta_v10']] \n",
        "\n",
        "Y = df1[['delta_lati']]\n",
        "from sklearn.model_selection import train_test_split\n",
        "X_train, X_test, Y_train, Y_test = train_test_split(X, Y, test_size = 1/4, random_state = 0)\n",
        "\n",
        "# with sklearn\n",
        "regr = tree.DecisionTreeRegressor()\n",
        "regr.fit(X_train, Y_train)\n",
        "\n",
        "# Predicting the Test set results\n",
        "Y_pred = regr.predict(X_test)\n",
        "for i in Y_pred:\n",
        "  # print(i)\n",
        "  pass\n",
        " \n",
        "print('Root Mean Squared Error:', np.sqrt(metrics.mean_squared_error(Y_test, Y_pred)))\n",
        "\n"
      ],
      "metadata": {
        "colab": {
          "base_uri": "https://localhost:8080/"
        },
        "id": "tzJQWjXJA-Ou",
        "outputId": "4727a788-7611-4eac-ef8c-ed881b70ccdf"
      },
      "execution_count": null,
      "outputs": [
        {
          "output_type": "stream",
          "name": "stdout",
          "text": [
            "Root Mean Squared Error: 0.11271911993978662\n",
            "Root Mean Squared Error: 0.10909815135849585\n"
          ]
        }
      ]
    },
    {
      "cell_type": "code",
      "source": [
        "from sklearn.neighbors import KNeighborsClassifier\n",
        "# neigh = KNeighborsClassifier(n_neighbors=3)\n",
        "# X = df[['northsouth_CS']] \n",
        "\n",
        "# Y = df['delta_longi']\n",
        "# from sklearn.model_selection import train_test_split\n",
        "# X_train, X_test, Y_train, Y_test = train_test_split(X, Y, test_size = 1/4, random_state = 0)\n",
        "\n",
        "# # with sklearn\n",
        "\n",
        "# neigh.fit(X_train, Y_train)\n",
        "\n",
        "# # Predicting the Test set results\n",
        "# Y_pred = neigh.predict(X_test)\n",
        "# for i in Y_pred:\n",
        "#   #print(i)\n",
        "#   pass\n",
        " \n",
        "# print('Root Mean Squared Error:', np.sqrt(metrics.mean_squared_error(Y_test, Y_pred)))\n",
        "\n",
        "\n",
        "\n",
        "\n",
        "\n",
        "# from sklearn import metrics\n",
        "# X = df1[['delta_temp','delta_windspeed','eastwest_CS','northsouth_CS','delta_u10','delta_v10']] \n",
        "\n",
        "# Y = df1[['delta_lati']]\n",
        "# from sklearn.model_selection import train_test_split\n",
        "# X_train, X_test, Y_train, Y_test = train_test_split(X, Y, test_size = 1/4, random_state = 0)\n",
        "\n",
        "# # with sklearn\n",
        "# neigh = KNeighborsClassifier(n_neighbors=3)\n",
        "# neigh.fit(X_train, Y_train)\n",
        "# # Predicting the Test set results\n",
        "# Y_pred = neigh.predict(X_test)\n",
        "# for i in Y_pred:\n",
        "#   #print(i)\n",
        "#   pass\n",
        " \n",
        "# print('Root Mean Squared Error:', np.sqrt(metrics.mean_squared_error(Y_test, Y_pred)))\n",
        "\n",
        "# neigh.fit(X, y)"
      ],
      "metadata": {
        "id": "cb3G9gk4Iqbx"
      },
      "execution_count": null,
      "outputs": []
    },
    {
      "cell_type": "markdown",
      "source": [
        "Ordinary least squares"
      ],
      "metadata": {
        "id": "S66HVLjLev-V"
      }
    },
    {
      "cell_type": "code",
      "source": [
        "X = df[['delta_temp','delta_windspeed','eastwest_CS','northsouth_CS','delta_u10','delta_v10']] \n",
        "\n",
        "Y = df[['delta_longi']]\n",
        "X = sm.add_constant(X) \n",
        "\n",
        " \n",
        "model = sm.OLS(Y, X).fit()\n",
        "predictions = model.predict(X) \n",
        "\n",
        "print_model = model.summary()\n",
        "print(print_model)"
      ],
      "metadata": {
        "colab": {
          "base_uri": "https://localhost:8080/"
        },
        "id": "YvTed_OAJsE-",
        "outputId": "3ac74689-31f1-4fce-dc87-7b8ec6ac29db"
      },
      "execution_count": null,
      "outputs": [
        {
          "output_type": "stream",
          "name": "stdout",
          "text": [
            "                            OLS Regression Results                            \n",
            "==============================================================================\n",
            "Dep. Variable:            delta_longi   R-squared:                       0.011\n",
            "Model:                            OLS   Adj. R-squared:                  0.006\n",
            "Method:                 Least Squares   F-statistic:                     2.299\n",
            "Date:                Fri, 26 Aug 2022   Prob (F-statistic):             0.0327\n",
            "Time:                        08:48:21   Log-Likelihood:                 1367.9\n",
            "No. Observations:                1257   AIC:                            -2722.\n",
            "Df Residuals:                    1250   BIC:                            -2686.\n",
            "Df Model:                           6                                         \n",
            "Covariance Type:            nonrobust                                         \n",
            "===================================================================================\n",
            "                      coef    std err          t      P>|t|      [0.025      0.975]\n",
            "-----------------------------------------------------------------------------------\n",
            "const              -0.0532      0.002    -22.998      0.000      -0.058      -0.049\n",
            "delta_temp          0.0441      0.031      1.403      0.161      -0.018       0.106\n",
            "delta_windspeed     0.0004      0.002      0.211      0.833      -0.003       0.004\n",
            "eastwest_CS     -1.146e-05   7.02e-05     -0.163      0.870      -0.000       0.000\n",
            "northsouth_CS       0.0002    8.1e-05      2.686      0.007    5.86e-05       0.000\n",
            "delta_u10          -0.0003      0.004     -0.079      0.937      -0.009       0.008\n",
            "delta_v10          -0.0034      0.004     -0.919      0.358      -0.011       0.004\n",
            "==============================================================================\n",
            "Omnibus:                      813.152   Durbin-Watson:                   1.178\n",
            "Prob(Omnibus):                  0.000   Jarque-Bera (JB):             9545.902\n",
            "Skew:                          -2.884   Prob(JB):                         0.00\n",
            "Kurtosis:                      15.206   Cond. No.                         731.\n",
            "==============================================================================\n",
            "\n",
            "Notes:\n",
            "[1] Standard Errors assume that the covariance matrix of the errors is correctly specified.\n"
          ]
        },
        {
          "output_type": "stream",
          "name": "stderr",
          "text": [
            "/usr/local/lib/python3.7/dist-packages/statsmodels/tsa/tsatools.py:142: FutureWarning: In a future version of pandas all arguments of concat except for the argument 'objs' will be keyword-only\n",
            "  x = pd.concat(x[::order], 1)\n"
          ]
        }
      ]
    },
    {
      "cell_type": "code",
      "source": [
        "X = df1[['delta_temp','delta_windspeed','eastwest_CS','northsouth_CS','delta_u10','delta_v10']] \n",
        "\n",
        "Y = df1[['delta_lati']]\n",
        "X = sm.add_constant(X) \n",
        "\n",
        " \n",
        "model = sm.OLS(Y, X).fit()\n",
        "predictions = model.predict(X) \n",
        "\n",
        "print_model = model.summary()\n",
        "print(print_model)"
      ],
      "metadata": {
        "id": "qKyPW1CYK0ED",
        "colab": {
          "base_uri": "https://localhost:8080/"
        },
        "outputId": "fe2b0964-a669-4d72-b582-07625e3c1b70"
      },
      "execution_count": null,
      "outputs": [
        {
          "output_type": "stream",
          "name": "stdout",
          "text": [
            "                            OLS Regression Results                            \n",
            "==============================================================================\n",
            "Dep. Variable:             delta_lati   R-squared:                       0.011\n",
            "Model:                            OLS   Adj. R-squared:                  0.007\n",
            "Method:                 Least Squares   F-statistic:                     2.399\n",
            "Date:                Fri, 26 Aug 2022   Prob (F-statistic):             0.0261\n",
            "Time:                        08:48:21   Log-Likelihood:                 1364.4\n",
            "No. Observations:                1257   AIC:                            -2715.\n",
            "Df Residuals:                    1250   BIC:                            -2679.\n",
            "Df Model:                           6                                         \n",
            "Covariance Type:            nonrobust                                         \n",
            "===================================================================================\n",
            "                      coef    std err          t      P>|t|      [0.025      0.975]\n",
            "-----------------------------------------------------------------------------------\n",
            "const              -0.0527      0.002    -22.803      0.000      -0.057      -0.048\n",
            "delta_temp       1.353e-05   8.21e-06      1.649      0.099   -2.57e-06    2.96e-05\n",
            "delta_windspeed     0.0004      0.002      0.201      0.841      -0.003       0.004\n",
            "eastwest_CS     -8.755e-06   7.04e-05     -0.124      0.901      -0.000       0.000\n",
            "northsouth_CS       0.0002   8.12e-05      2.615      0.009     5.3e-05       0.000\n",
            "delta_u10          -0.0011      0.004     -0.240      0.810      -0.010       0.008\n",
            "delta_v10          -0.0034      0.004     -0.927      0.354      -0.011       0.004\n",
            "==============================================================================\n",
            "Omnibus:                      819.840   Durbin-Watson:                   1.175\n",
            "Prob(Omnibus):                  0.000   Jarque-Bera (JB):            10089.330\n",
            "Skew:                          -2.896   Prob(JB):                         0.00\n",
            "Kurtosis:                      15.613   Cond. No.                         538.\n",
            "==============================================================================\n",
            "\n",
            "Notes:\n",
            "[1] Standard Errors assume that the covariance matrix of the errors is correctly specified.\n"
          ]
        },
        {
          "output_type": "stream",
          "name": "stderr",
          "text": [
            "/usr/local/lib/python3.7/dist-packages/statsmodels/tsa/tsatools.py:142: FutureWarning: In a future version of pandas all arguments of concat except for the argument 'objs' will be keyword-only\n",
            "  x = pd.concat(x[::order], 1)\n"
          ]
        }
      ]
    }
  ]
}